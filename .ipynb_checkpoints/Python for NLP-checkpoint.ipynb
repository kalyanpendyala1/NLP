{
 "cells": [
  {
   "cell_type": "markdown",
   "metadata": {},
   "source": [
    "# Python"
   ]
  },
  {
   "cell_type": "markdown",
   "metadata": {},
   "source": [
    "### Formatted String Literals (f-strings)"
   ]
  },
  {
   "cell_type": "code",
   "execution_count": 3,
   "metadata": {},
   "outputs": [
    {
     "name": "stdout",
     "output_type": "stream",
     "text": [
      "The volume of the container is 369 litres\n",
      "The volume of the container is 369 litres\n"
     ]
    }
   ],
   "source": [
    "vol = 369\n",
    "\n",
    "print(\"The volume of the container is {} litres\".format(vol))\n",
    "\n",
    "# Same thing with f-strings\n",
    "\n",
    "print(f\"The volume of the container is {vol} litres\")"
   ]
  },
  {
   "cell_type": "code",
   "execution_count": 4,
   "metadata": {},
   "outputs": [
    {
     "name": "stdout",
     "output_type": "stream",
     "text": [
      "My name is 'Kalyan'\n"
     ]
    }
   ],
   "source": [
    "# string representation\n",
    "\n",
    "name = 'Kalyan'\n",
    "print(f'My name is {name!r}')"
   ]
  },
  {
   "cell_type": "code",
   "execution_count": 7,
   "metadata": {},
   "outputs": [
    {
     "name": "stdout",
     "output_type": "stream",
     "text": [
      "The building number is 123\n"
     ]
    }
   ],
   "source": [
    "# you can use it with dictionary and careful when using quotes.\n",
    "a = {'k':123, 's': 325}\n",
    "\n",
    "print(f\"The building number is {a['k']}\")"
   ]
  },
  {
   "cell_type": "code",
   "execution_count": null,
   "metadata": {},
   "outputs": [],
   "source": []
  },
  {
   "cell_type": "code",
   "execution_count": null,
   "metadata": {},
   "outputs": [],
   "source": []
  },
  {
   "cell_type": "markdown",
   "metadata": {},
   "source": [
    "### Minimum widths, Alignment and Padding"
   ]
  },
  {
   "cell_type": "code",
   "execution_count": 10,
   "metadata": {},
   "outputs": [
    {
     "name": "stdout",
     "output_type": "stream",
     "text": [
      "('Author', 'Topic', 'Pages')\n",
      "('Twain', 'Rafting', 601)\n",
      "('Feynman', 'Physics', 95)\n",
      "('Hamilton', 'Mythology', 144)\n",
      "The Author is Author\n",
      "The Author is Twain\n",
      "The Author is Feynman\n",
      "The Author is Hamilton\n"
     ]
    }
   ],
   "source": [
    "# list of tuples\n",
    "library = [('Author', 'Topic', 'Pages'), ('Twain', 'Rafting', 601), ('Feynman', 'Physics', 95), ('Hamilton', 'Mythology', 144)]\n",
    "\n",
    "for book in library:\n",
    "    print(book)"
   ]
  },
  {
   "cell_type": "code",
   "execution_count": 11,
   "metadata": {},
   "outputs": [
    {
     "name": "stdout",
     "output_type": "stream",
     "text": [
      "The Author is Author\n",
      "The Author is Twain\n",
      "The Author is Feynman\n",
      "The Author is Hamilton\n"
     ]
    }
   ],
   "source": [
    "for book in library:\n",
    "    print(f\"The Author is {book[0]}\")"
   ]
  },
  {
   "cell_type": "code",
   "execution_count": 16,
   "metadata": {},
   "outputs": [
    {
     "name": "stdout",
     "output_type": "stream",
     "text": [
      "Author: Author,Book: Topic,Pages: Pages\n",
      "Author: Twain,Book: Rafting,Pages: 601\n",
      "Author: Feynman,Book: Physics,Pages: 95\n",
      "Author: Hamilton,Book: Mythology,Pages: 144\n"
     ]
    }
   ],
   "source": [
    "# tuple unpacking\n",
    "for x,y,z in library:\n",
    "    print(f\"Author: {x},Book: {y},Pages: {z}\")"
   ]
  },
  {
   "cell_type": "code",
   "execution_count": 19,
   "metadata": {},
   "outputs": [
    {
     "name": "stdout",
     "output_type": "stream",
     "text": [
      "Author: Author     Book: Topic           Pages:      Pages\n",
      "Author: Twain      Book: Rafting         Pages:        601\n",
      "Author: Feynman    Book: Physics         Pages:         95\n",
      "Author: Hamilton   Book: Mythology       Pages:        144\n"
     ]
    }
   ],
   "source": [
    "# include padding\n",
    "for x,y,z in library:\n",
    "    print(f\"Author: {x:{10}} Book: {y:{15}} Pages: {z:>{10}}\")"
   ]
  },
  {
   "cell_type": "markdown",
   "metadata": {},
   "source": [
    "To set the alignment, use the character < for left-align, ^ for center, > for right.\n",
    "To set padding, precede the alignment character with the padding character (- and . are common choices)."
   ]
  },
  {
   "cell_type": "code",
   "execution_count": 23,
   "metadata": {},
   "outputs": [
    {
     "name": "stdout",
     "output_type": "stream",
     "text": [
      "Author: ~~~~Author Book: ``````````Topic Pages: -----Pages\n",
      "Author: ~~~~~Twain Book: ````````Rafting Pages: -------601\n",
      "Author: ~~~Feynman Book: ````````Physics Pages: --------95\n",
      "Author: ~~Hamilton Book: ``````Mythology Pages: -------144\n"
     ]
    }
   ],
   "source": [
    "# Fill the padding with required characters\n",
    "# put > symbol before the padding and pass what character you want to before that\n",
    "for x,y,z in library:\n",
    "    print(f\"Author: {x:~>{10}} Book: {y:`>{15}} Pages: {z:->{10}}\")"
   ]
  },
  {
   "cell_type": "code",
   "execution_count": null,
   "metadata": {},
   "outputs": [],
   "source": []
  },
  {
   "cell_type": "code",
   "execution_count": null,
   "metadata": {},
   "outputs": [],
   "source": []
  },
  {
   "cell_type": "markdown",
   "metadata": {},
   "source": [
    "### Date Formatting\n",
    "\n",
    "https://www.programiz.com/python-programming/datetime/strftime"
   ]
  },
  {
   "cell_type": "code",
   "execution_count": 25,
   "metadata": {},
   "outputs": [
    {
     "name": "stdout",
     "output_type": "stream",
     "text": [
      "The date is 2009-03-15 00:00:00\n"
     ]
    },
    {
     "data": {
      "text/plain": [
       "datetime.datetime(2009, 3, 15, 0, 0)"
      ]
     },
     "execution_count": 25,
     "metadata": {},
     "output_type": "execute_result"
    }
   ],
   "source": [
    "from datetime import datetime\n",
    "\n",
    "today = datetime(year=2009, month=3, day=15)\n",
    "print(f'The date is {today}')\n",
    "today"
   ]
  },
  {
   "cell_type": "code",
   "execution_count": 26,
   "metadata": {},
   "outputs": [
    {
     "name": "stdout",
     "output_type": "stream",
     "text": [
      " March 15, 2009\n"
     ]
    }
   ],
   "source": [
    "# pass the variable followed by : and then whatever the part you want\n",
    "# check the above website for more info\n",
    "print(f\"{today: %B %d, %Y}\")"
   ]
  },
  {
   "cell_type": "code",
   "execution_count": null,
   "metadata": {},
   "outputs": [],
   "source": []
  },
  {
   "cell_type": "code",
   "execution_count": null,
   "metadata": {},
   "outputs": [],
   "source": []
  },
  {
   "cell_type": "markdown",
   "metadata": {},
   "source": [
    "### Working with text files"
   ]
  },
  {
   "cell_type": "code",
   "execution_count": 27,
   "metadata": {},
   "outputs": [
    {
     "name": "stdout",
     "output_type": "stream",
     "text": [
      "Writing test.txt\n"
     ]
    }
   ],
   "source": [
    "%%writefile test.txt\n",
    "Hello, this is a txt file.\n",
    "This is second line of txt file.\n",
    "This only works for jupyter notebook."
   ]
  },
  {
   "cell_type": "code",
   "execution_count": 37,
   "metadata": {},
   "outputs": [
    {
     "data": {
      "text/plain": [
       "<_io.TextIOWrapper name='test.txt' mode='r' encoding='cp1252'>"
      ]
     },
     "execution_count": 37,
     "metadata": {},
     "output_type": "execute_result"
    }
   ],
   "source": [
    "myfile = open('test.txt') # provide the file pat\n",
    "myfile"
   ]
  },
  {
   "cell_type": "code",
   "execution_count": 49,
   "metadata": {},
   "outputs": [
    {
     "data": {
      "text/plain": [
       "''"
      ]
     },
     "execution_count": 49,
     "metadata": {},
     "output_type": "execute_result"
    }
   ],
   "source": [
    "myfile.read() # new line is indicated with \\n; Try running only this cell again it will be blank\n",
    "# thats because after you reading the file the cursor is at the end."
   ]
  },
  {
   "cell_type": "code",
   "execution_count": 54,
   "metadata": {},
   "outputs": [
    {
     "data": {
      "text/plain": [
       "'Hello, this is a txt file.\\nThis is second line of txt file.\\nThis only works for jupyter notebook.\\n'"
      ]
     },
     "execution_count": 54,
     "metadata": {},
     "output_type": "execute_result"
    }
   ],
   "source": [
    "myfile.seek(0) # resets the cursor\n",
    "\n",
    "content = myfile.read()\n",
    "content"
   ]
  },
  {
   "cell_type": "code",
   "execution_count": 57,
   "metadata": {},
   "outputs": [],
   "source": [
    "# close the file once you are done with it\n",
    "myfile.close()\n",
    "# if the file is left open in your program another programs might be not able to use it"
   ]
  },
  {
   "cell_type": "markdown",
   "metadata": {},
   "source": [
    "#### Writing to a file"
   ]
  },
  {
   "cell_type": "markdown",
   "metadata": {},
   "source": [
    "By default, the open() function will only allow us to read the file.\n",
    "\n",
    "We need to pass the argument 'w' to write over the file.\n",
    "\n",
    "\"Caution::\"\n",
    "\n",
    "Opening the file with 'w' or 'w+' truncates the original, meaning that anyting was in original file is deleted!"
   ]
  },
  {
   "cell_type": "code",
   "execution_count": 60,
   "metadata": {},
   "outputs": [
    {
     "data": {
      "text/plain": [
       "'This is the new content'"
      ]
     },
     "execution_count": 60,
     "metadata": {},
     "output_type": "execute_result"
    }
   ],
   "source": [
    "myfile = open('test.txt', 'w+') # w+ for read and write\n",
    "\n",
    "myfile.write('This is the new content')\n",
    "\n",
    "myfile.seek(0)\n",
    "myfile.read()"
   ]
  },
  {
   "cell_type": "code",
   "execution_count": 61,
   "metadata": {},
   "outputs": [],
   "source": [
    "myfile.close()"
   ]
  },
  {
   "cell_type": "markdown",
   "metadata": {},
   "source": [
    "#### appending to a file"
   ]
  },
  {
   "cell_type": "code",
   "execution_count": 62,
   "metadata": {},
   "outputs": [],
   "source": [
    "myfile = open('test.txt', 'a+') # allows you to append to file\n",
    "\n",
    "myfile.write('# if you are passing a+ and you dont have that file in ur system it gonna create file with that name.')\n",
    "\n",
    "myfile.close()"
   ]
  },
  {
   "cell_type": "code",
   "execution_count": 63,
   "metadata": {},
   "outputs": [
    {
     "data": {
      "text/plain": [
       "'This is the new content# if you are passing a+ and you dont have that file in ur system it gonna create file with that name.'"
      ]
     },
     "execution_count": 63,
     "metadata": {},
     "output_type": "execute_result"
    }
   ],
   "source": [
    "newfile = open('test.txt', 'r')\n",
    "newfile.read()"
   ]
  },
  {
   "cell_type": "code",
   "execution_count": 64,
   "metadata": {},
   "outputs": [],
   "source": [
    "newfile.close()"
   ]
  },
  {
   "cell_type": "markdown",
   "metadata": {},
   "source": [
    "#### iterating through a file"
   ]
  },
  {
   "cell_type": "code",
   "execution_count": 67,
   "metadata": {},
   "outputs": [
    {
     "name": "stdout",
     "output_type": "stream",
     "text": [
      "This is the new content# if you are passing a+ and you dont have that file in ur system it gonna create file with that name."
     ]
    }
   ],
   "source": [
    "iterating = open('test.txt', 'r')\n",
    "\n",
    "for x in iterating:\n",
    "    print(x, end='') # end='' argument removes extra literals"
   ]
  },
  {
   "cell_type": "code",
   "execution_count": null,
   "metadata": {},
   "outputs": [],
   "source": []
  },
  {
   "cell_type": "code",
   "execution_count": null,
   "metadata": {},
   "outputs": [],
   "source": []
  }
 ],
 "metadata": {
  "kernelspec": {
   "display_name": "Python 3",
   "language": "python",
   "name": "python3"
  },
  "language_info": {
   "codemirror_mode": {
    "name": "ipython",
    "version": 3
   },
   "file_extension": ".py",
   "mimetype": "text/x-python",
   "name": "python",
   "nbconvert_exporter": "python",
   "pygments_lexer": "ipython3",
   "version": "3.7.5"
  }
 },
 "nbformat": 4,
 "nbformat_minor": 2
}
